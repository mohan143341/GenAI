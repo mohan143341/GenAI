{
  "nbformat": 4,
  "nbformat_minor": 0,
  "metadata": {
    "colab": {
      "provenance": [],
      "collapsed_sections": [
        "7v7bjxdZAgeH"
      ],
      "toc_visible": true
    },
    "kernelspec": {
      "name": "python3",
      "display_name": "Python 3"
    },
    "language_info": {
      "name": "python"
    }
  },
  "cells": [
    {
      "cell_type": "code",
      "execution_count": 1,
      "metadata": {
        "colab": {
          "base_uri": "https://localhost:8080/"
        },
        "id": "rG1I5ocf9TI4",
        "outputId": "6d5ce09d-f1bb-42d8-fb0a-cb7d3a624c2d"
      },
      "outputs": [
        {
          "output_type": "stream",
          "name": "stdout",
          "text": [
            "\u001b[2K     \u001b[90m━━━━━━━━━━━━━━━━━━━━━━━━━━━━━━━━━━━━━━━━\u001b[0m \u001b[32m973.5/973.5 kB\u001b[0m \u001b[31m4.6 MB/s\u001b[0m eta \u001b[36m0:00:00\u001b[0m\n",
            "\u001b[2K     \u001b[90m━━━━━━━━━━━━━━━━━━━━━━━━━━━━━━━━━━━━━━━━\u001b[0m \u001b[32m310.2/310.2 kB\u001b[0m \u001b[31m20.5 MB/s\u001b[0m eta \u001b[36m0:00:00\u001b[0m\n",
            "\u001b[2K     \u001b[90m━━━━━━━━━━━━━━━━━━━━━━━━━━━━━━━━━━━━━━━━\u001b[0m \u001b[32m124.4/124.4 kB\u001b[0m \u001b[31m6.4 MB/s\u001b[0m eta \u001b[36m0:00:00\u001b[0m\n",
            "\u001b[2K     \u001b[90m━━━━━━━━━━━━━━━━━━━━━━━━━━━━━━━━━━━━━━━━\u001b[0m \u001b[32m53.0/53.0 kB\u001b[0m \u001b[31m3.7 MB/s\u001b[0m eta \u001b[36m0:00:00\u001b[0m\n",
            "\u001b[2K     \u001b[90m━━━━━━━━━━━━━━━━━━━━━━━━━━━━━━━━━━━━━━━━\u001b[0m \u001b[32m142.5/142.5 kB\u001b[0m \u001b[31m2.8 MB/s\u001b[0m eta \u001b[36m0:00:00\u001b[0m\n",
            "\u001b[?25h"
          ]
        }
      ],
      "source": [
        "### Palm2 and Langchain installation\n",
        "! pip install google-generativeai langchain --quiet\n"
      ]
    },
    {
      "cell_type": "code",
      "source": [
        "! pip install -U langchain-community --quiet"
      ],
      "metadata": {
        "id": "dW7eGIQ6-E9M"
      },
      "execution_count": 8,
      "outputs": []
    },
    {
      "cell_type": "code",
      "source": [
        "!pip install langchain_google_genai --quiet"
      ],
      "metadata": {
        "id": "jbxPHofX_aJk"
      },
      "execution_count": 11,
      "outputs": []
    },
    {
      "cell_type": "markdown",
      "source": [
        "\n",
        "\n",
        "\n",
        "### **Palm2 setup with Langchain**\n",
        "\n"
      ],
      "metadata": {
        "id": "JuD_8GBX9Zty"
      }
    },
    {
      "cell_type": "code",
      "source": [
        "from google.colab import userdata\n",
        "PALM2_API_KEY = userdata.get('PALM2_API_KEY')"
      ],
      "metadata": {
        "id": "Xv5dVHNs99Wh"
      },
      "execution_count": 12,
      "outputs": []
    },
    {
      "cell_type": "code",
      "source": [],
      "metadata": {
        "id": "bOjANXgQ_DUN"
      },
      "execution_count": 12,
      "outputs": []
    },
    {
      "cell_type": "code",
      "source": [
        "from langchain.embeddings import GooglePalmEmbeddings\n",
        "#from langchain.llms import GooglePalm\n",
        "from langchain_google_genai import GoogleGenerativeAI\n",
        "\n",
        "llm = GoogleGenerativeAI(google_api_key=PALM2_API_KEY,\n",
        "                 temperature=0.1,\n",
        "                top_k=1,model=\"gemini-pro\")"
      ],
      "metadata": {
        "id": "-9hIHwP59dbS"
      },
      "execution_count": 14,
      "outputs": []
    },
    {
      "cell_type": "code",
      "source": [
        "llm"
      ],
      "metadata": {
        "colab": {
          "base_uri": "https://localhost:8080/"
        },
        "id": "duRKsTcR9hHp",
        "outputId": "80f27ed7-f37b-4caf-a2eb-e02ea3b5b2dc"
      },
      "execution_count": 15,
      "outputs": [
        {
          "output_type": "execute_result",
          "data": {
            "text/plain": [
              "GoogleGenerativeAI(model='gemini-pro', google_api_key=SecretStr('**********'), temperature=0.1, top_k=1, client=genai.GenerativeModel(\n",
              "    model_name='models/gemini-pro',\n",
              "    generation_config={},\n",
              "    safety_settings={},\n",
              "    tools=None,\n",
              "    system_instruction=None,\n",
              "))"
            ]
          },
          "metadata": {},
          "execution_count": 15
        }
      ]
    },
    {
      "cell_type": "code",
      "source": [
        "### testing the set up\n",
        "prompts = [\"Who won the last football world cup?\"] # according to the class prompts must be in list\n",
        "llm_result = llm._generate(prompts)\n",
        "llm_result"
      ],
      "metadata": {
        "colab": {
          "base_uri": "https://localhost:8080/"
        },
        "id": "H4SB9hdV_7oP",
        "outputId": "c0581b38-535f-4c16-e667-ca63d20bca1d"
      },
      "execution_count": 16,
      "outputs": [
        {
          "output_type": "execute_result",
          "data": {
            "text/plain": [
              "LLMResult(generations=[[Generation(text='Argentina')]], llm_output=None, run=None)"
            ]
          },
          "metadata": {},
          "execution_count": 16
        }
      ]
    },
    {
      "cell_type": "markdown",
      "source": [
        "\n",
        "### **SimpleSequenctialChain**\n"
      ],
      "metadata": {
        "id": "06Xrx8qUAE3C"
      }
    },
    {
      "cell_type": "code",
      "source": [
        "from langchain import PromptTemplate,  LLMChain # To create PromptTemplate and LLMChain\n",
        "from langchain.chains import SimpleSequentialChain , SequentialChain\n"
      ],
      "metadata": {
        "id": "Ejtx27GDAB48"
      },
      "execution_count": 17,
      "outputs": []
    },
    {
      "cell_type": "code",
      "source": [
        "template = 'Which country got independence in {year}'\n",
        "prompt_1 = PromptTemplate(template=template, input_variables=[\"year\"])\n",
        "chain_1 = LLMChain(llm=llm,prompt=prompt_1)"
      ],
      "metadata": {
        "colab": {
          "base_uri": "https://localhost:8080/"
        },
        "id": "rBfr60O1AOFZ",
        "outputId": "b5c13cfe-b9e3-4438-d6dd-ee0313893c8b"
      },
      "execution_count": 18,
      "outputs": [
        {
          "output_type": "stream",
          "name": "stderr",
          "text": [
            "/usr/local/lib/python3.10/dist-packages/langchain_core/_api/deprecation.py:119: LangChainDeprecationWarning: The class `LLMChain` was deprecated in LangChain 0.1.17 and will be removed in 0.3.0. Use RunnableSequence, e.g., `prompt | llm` instead.\n",
            "  warn_deprecated(\n"
          ]
        }
      ]
    },
    {
      "cell_type": "code",
      "source": [
        "template = 'Please let me the after independence 5 historical event of that country: {country}'\n",
        "prompt_2 = PromptTemplate(template=template, input_variables=[\"country\"])\n",
        "chain_2 = LLMChain(llm=llm,prompt=prompt_2)"
      ],
      "metadata": {
        "id": "CS8RIeomATZP"
      },
      "execution_count": 19,
      "outputs": []
    },
    {
      "cell_type": "code",
      "source": [
        "complete_chain = SimpleSequentialChain(chains=[chain_1,chain_2],\n",
        "                                      verbose=True)"
      ],
      "metadata": {
        "id": "-3_Kbyb7AWjT"
      },
      "execution_count": 20,
      "outputs": []
    },
    {
      "cell_type": "code",
      "source": [
        "output = complete_chain.run('1947')\n",
        "print(output)"
      ],
      "metadata": {
        "colab": {
          "base_uri": "https://localhost:8080/"
        },
        "id": "z5kmiPn8AYga",
        "outputId": "0d1f914f-69ad-4beb-d83f-70073349a26f"
      },
      "execution_count": 21,
      "outputs": [
        {
          "output_type": "stream",
          "name": "stderr",
          "text": [
            "/usr/local/lib/python3.10/dist-packages/langchain_core/_api/deprecation.py:119: LangChainDeprecationWarning: The method `Chain.run` was deprecated in langchain 0.1.0 and will be removed in 0.3.0. Use invoke instead.\n",
            "  warn_deprecated(\n"
          ]
        },
        {
          "output_type": "stream",
          "name": "stdout",
          "text": [
            "\n",
            "\n",
            "\u001b[1m> Entering new SimpleSequentialChain chain...\u001b[0m\n",
            "\u001b[36;1m\u001b[1;3mIndia\u001b[0m\n",
            "\u001b[33;1m\u001b[1;3m1. **Partition of India (1947):** The division of British India into the independent dominions of India and Pakistan, leading to widespread violence and displacement.\n",
            "\n",
            "2. **Adoption of the Indian Constitution (1950):** The drafting and adoption of the Indian Constitution, which established India as a sovereign, democratic republic.\n",
            "\n",
            "3. **Green Revolution (1960s-1970s):** A period of agricultural modernization that led to increased crop yields and reduced food shortages.\n",
            "\n",
            "4. **Indo-Pakistani War of 1971:** A conflict that resulted in the liberation of Bangladesh from Pakistan and the emergence of India as a regional power.\n",
            "\n",
            "5. **Economic Reforms of 1991:** A series of economic liberalization measures that opened up the Indian economy to foreign investment and trade, leading to significant economic growth.\u001b[0m\n",
            "\n",
            "\u001b[1m> Finished chain.\u001b[0m\n",
            "1. **Partition of India (1947):** The division of British India into the independent dominions of India and Pakistan, leading to widespread violence and displacement.\n",
            "\n",
            "2. **Adoption of the Indian Constitution (1950):** The drafting and adoption of the Indian Constitution, which established India as a sovereign, democratic republic.\n",
            "\n",
            "3. **Green Revolution (1960s-1970s):** A period of agricultural modernization that led to increased crop yields and reduced food shortages.\n",
            "\n",
            "4. **Indo-Pakistani War of 1971:** A conflict that resulted in the liberation of Bangladesh from Pakistan and the emergence of India as a regional power.\n",
            "\n",
            "5. **Economic Reforms of 1991:** A series of economic liberalization measures that opened up the Indian economy to foreign investment and trade, leading to significant economic growth.\n"
          ]
        }
      ]
    },
    {
      "cell_type": "code",
      "source": [
        "output = complete_chain.run('1971')\n",
        "print(output)"
      ],
      "metadata": {
        "colab": {
          "base_uri": "https://localhost:8080/"
        },
        "id": "sublMtN1AaRR",
        "outputId": "c2b6c1f7-9b1a-4c56-b44a-4ead18d4f6c3"
      },
      "execution_count": 22,
      "outputs": [
        {
          "output_type": "stream",
          "name": "stdout",
          "text": [
            "\n",
            "\n",
            "\u001b[1m> Entering new SimpleSequentialChain chain...\u001b[0m\n",
            "\u001b[36;1m\u001b[1;3mBangladesh\u001b[0m\n",
            "\u001b[33;1m\u001b[1;3m1. **Liberation War (1971):** The Bangladesh Liberation War, fought against Pakistan, resulted in the independence of Bangladesh on December 16, 1971.\n",
            "\n",
            "2. **Adoption of the Constitution (1972):** The first constitution of Bangladesh was adopted on November 4, 1972, establishing a parliamentary democracy.\n",
            "\n",
            "3. **Assassination of Sheikh Mujibur Rahman (1975):** The founding father of Bangladesh, Sheikh Mujibur Rahman, was assassinated on August 15, 1975, along with most of his family.\n",
            "\n",
            "4. **Military Coups and Martial Law (1975-1990):** Bangladesh experienced a series of military coups and martial law regimes following Sheikh Mujibur Rahman's assassination.\n",
            "\n",
            "5. **Return to Democracy (1991):** In 1991, Bangladesh returned to democracy with the election of Begum Khaleda Zia as Prime Minister.\u001b[0m\n",
            "\n",
            "\u001b[1m> Finished chain.\u001b[0m\n",
            "1. **Liberation War (1971):** The Bangladesh Liberation War, fought against Pakistan, resulted in the independence of Bangladesh on December 16, 1971.\n",
            "\n",
            "2. **Adoption of the Constitution (1972):** The first constitution of Bangladesh was adopted on November 4, 1972, establishing a parliamentary democracy.\n",
            "\n",
            "3. **Assassination of Sheikh Mujibur Rahman (1975):** The founding father of Bangladesh, Sheikh Mujibur Rahman, was assassinated on August 15, 1975, along with most of his family.\n",
            "\n",
            "4. **Military Coups and Martial Law (1975-1990):** Bangladesh experienced a series of military coups and martial law regimes following Sheikh Mujibur Rahman's assassination.\n",
            "\n",
            "5. **Return to Democracy (1991):** In 1991, Bangladesh returned to democracy with the election of Begum Khaleda Zia as Prime Minister.\n"
          ]
        }
      ]
    },
    {
      "cell_type": "markdown",
      "source": [
        "### **Download data**"
      ],
      "metadata": {
        "id": "7v7bjxdZAgeH"
      }
    },
    {
      "cell_type": "code",
      "source": [
        "!pip install kaggle\n",
        "!mkdir -p ~/.kaggle\n",
        "!cp kaggle.json ~/.kaggle/\n",
        "!chmod 600 ~/.kaggle/kaggle.json\n"
      ],
      "metadata": {
        "colab": {
          "base_uri": "https://localhost:8080/"
        },
        "id": "bv6GZIyiBDHr",
        "outputId": "3d656d3f-5025-4398-e264-325661e56c5e"
      },
      "execution_count": 23,
      "outputs": [
        {
          "output_type": "stream",
          "name": "stdout",
          "text": [
            "Requirement already satisfied: kaggle in /usr/local/lib/python3.10/dist-packages (1.6.14)\n",
            "Requirement already satisfied: six>=1.10 in /usr/local/lib/python3.10/dist-packages (from kaggle) (1.16.0)\n",
            "Requirement already satisfied: certifi>=2023.7.22 in /usr/local/lib/python3.10/dist-packages (from kaggle) (2024.2.2)\n",
            "Requirement already satisfied: python-dateutil in /usr/local/lib/python3.10/dist-packages (from kaggle) (2.8.2)\n",
            "Requirement already satisfied: requests in /usr/local/lib/python3.10/dist-packages (from kaggle) (2.31.0)\n",
            "Requirement already satisfied: tqdm in /usr/local/lib/python3.10/dist-packages (from kaggle) (4.66.4)\n",
            "Requirement already satisfied: python-slugify in /usr/local/lib/python3.10/dist-packages (from kaggle) (8.0.4)\n",
            "Requirement already satisfied: urllib3 in /usr/local/lib/python3.10/dist-packages (from kaggle) (2.0.7)\n",
            "Requirement already satisfied: bleach in /usr/local/lib/python3.10/dist-packages (from kaggle) (6.1.0)\n",
            "Requirement already satisfied: webencodings in /usr/local/lib/python3.10/dist-packages (from bleach->kaggle) (0.5.1)\n",
            "Requirement already satisfied: text-unidecode>=1.3 in /usr/local/lib/python3.10/dist-packages (from python-slugify->kaggle) (1.3)\n",
            "Requirement already satisfied: charset-normalizer<4,>=2 in /usr/local/lib/python3.10/dist-packages (from requests->kaggle) (3.3.2)\n",
            "Requirement already satisfied: idna<4,>=2.5 in /usr/local/lib/python3.10/dist-packages (from requests->kaggle) (3.7)\n"
          ]
        }
      ]
    },
    {
      "cell_type": "code",
      "source": [],
      "metadata": {
        "id": "quVaxakzBpxD"
      },
      "execution_count": 25,
      "outputs": []
    },
    {
      "cell_type": "code",
      "source": [
        "! kaggle datasets download -d PromptCloudHQ/amazon-reviews-unlocked-mobile-phones"
      ],
      "metadata": {
        "colab": {
          "base_uri": "https://localhost:8080/"
        },
        "id": "OfKwroh9CNnl",
        "outputId": "28422d7e-55e9-4d00-f9db-7e2fc100d01c"
      },
      "execution_count": 25,
      "outputs": [
        {
          "output_type": "stream",
          "name": "stdout",
          "text": [
            "Dataset URL: https://www.kaggle.com/datasets/PromptCloudHQ/amazon-reviews-unlocked-mobile-phones\n",
            "License(s): CC0-1.0\n",
            "Downloading amazon-reviews-unlocked-mobile-phones.zip to /content\n",
            " 77% 25.0M/32.6M [00:00<00:00, 58.0MB/s]\n",
            "100% 32.6M/32.6M [00:00<00:00, 66.3MB/s]\n"
          ]
        }
      ]
    },
    {
      "cell_type": "code",
      "source": [
        "!unzip amazon-reviews-unlocked-mobile-phones.zip\n"
      ],
      "metadata": {
        "colab": {
          "base_uri": "https://localhost:8080/"
        },
        "id": "esbo6AcQCUZc",
        "outputId": "c7e006f3-2b12-461b-8a65-627e1625c831"
      },
      "execution_count": 26,
      "outputs": [
        {
          "output_type": "stream",
          "name": "stdout",
          "text": [
            "Archive:  amazon-reviews-unlocked-mobile-phones.zip\n",
            "  inflating: Amazon_Unlocked_Mobile.csv  \n"
          ]
        }
      ]
    },
    {
      "cell_type": "markdown",
      "source": [
        "### **SequentialChain**"
      ],
      "metadata": {
        "id": "JOWka1iZNia6"
      }
    },
    {
      "cell_type": "code",
      "source": [
        "import pandas as pd\n",
        "df = pd.read_csv('Amazon_Unlocked_Mobile.csv')\n"
      ],
      "metadata": {
        "id": "vE9HMPQ3AeFe"
      },
      "execution_count": 27,
      "outputs": []
    },
    {
      "cell_type": "code",
      "source": [
        "df.dropna(inplace=True)\n"
      ],
      "metadata": {
        "id": "6DszvQIwCb9l"
      },
      "execution_count": 28,
      "outputs": []
    },
    {
      "cell_type": "code",
      "source": [
        "# Input text\n",
        "\n",
        "review = df['Reviews'][15]\n",
        "review"
      ],
      "metadata": {
        "colab": {
          "base_uri": "https://localhost:8080/",
          "height": 52
        },
        "id": "el3mmpnXCeev",
        "outputId": "9efc17c0-c477-4c8a-a3be-42ea4d549f91"
      },
      "execution_count": 29,
      "outputs": [
        {
          "output_type": "execute_result",
          "data": {
            "text/plain": [
              "'Had this phone before and loved it but was not working so I got this phone. One thing is the SD card slot does not open up when I try to access it in file managment, even does not show up on the computer. The card is fine was able to open on another phone. Trying to trouble shoot it for now.'"
            ],
            "application/vnd.google.colaboratory.intrinsic+json": {
              "type": "string"
            }
          },
          "metadata": {},
          "execution_count": 29
        }
      ]
    },
    {
      "cell_type": "code",
      "source": [
        "templete_1 = \"Identify the key issues in the given mobile review: \\n{review}\"\n",
        "prompt_1 = PromptTemplate(template=templete_1,\n",
        "                          input_variables=['review'])\n",
        "chain_1 = LLMChain(llm=llm,\n",
        "                  prompt=prompt_1,\n",
        "                  output_key='issues')"
      ],
      "metadata": {
        "id": "h7aRS0xbCgZx"
      },
      "execution_count": 30,
      "outputs": []
    },
    {
      "cell_type": "code",
      "source": [
        "templete_2 = \"Write a constructive steps needs to be taken by the manufacturing company \\\n",
        "             based on the issues: \\n{issues}\"\n",
        "prompt_2 = PromptTemplate(template=templete_2,\n",
        "                          input_variables=['issues'])\n",
        "chain_2 = LLMChain(llm=llm,\n",
        "                  prompt=prompt_2,\n",
        "                  output_key='final_actions')"
      ],
      "metadata": {
        "id": "bmABkXnGCiiT"
      },
      "execution_count": 31,
      "outputs": []
    },
    {
      "cell_type": "code",
      "source": [
        "seq_chain = SequentialChain(chains=[chain_1,chain_2],\n",
        "                            input_variables=['review'],\n",
        "                            output_variables=['issues','final_actions']\n",
        "                           )"
      ],
      "metadata": {
        "id": "E0CeYgB5Cphw"
      },
      "execution_count": 32,
      "outputs": []
    },
    {
      "cell_type": "code",
      "source": [
        "output = seq_chain(review)\n"
      ],
      "metadata": {
        "colab": {
          "base_uri": "https://localhost:8080/"
        },
        "id": "eYWW5CdYCuQe",
        "outputId": "ee5d7e60-b79a-4490-b218-23d2e8c510c3"
      },
      "execution_count": 33,
      "outputs": [
        {
          "output_type": "stream",
          "name": "stderr",
          "text": [
            "/usr/local/lib/python3.10/dist-packages/langchain_core/_api/deprecation.py:119: LangChainDeprecationWarning: The method `Chain.__call__` was deprecated in langchain 0.1.0 and will be removed in 0.3.0. Use invoke instead.\n",
            "  warn_deprecated(\n"
          ]
        }
      ]
    },
    {
      "cell_type": "code",
      "source": [
        "print(output)\n"
      ],
      "metadata": {
        "colab": {
          "base_uri": "https://localhost:8080/"
        },
        "id": "Z1neANoNCvth",
        "outputId": "c24aa548-eb42-4eaf-dea7-2100b3c48e47"
      },
      "execution_count": 34,
      "outputs": [
        {
          "output_type": "stream",
          "name": "stdout",
          "text": [
            "{'review': 'Had this phone before and loved it but was not working so I got this phone. One thing is the SD card slot does not open up when I try to access it in file managment, even does not show up on the computer. The card is fine was able to open on another phone. Trying to trouble shoot it for now.', 'issues': '**Key Issues:**\\n\\n* SD card slot not opening when accessed in file management\\n* SD card not recognized by computer\\n* SD card is functional on other devices', 'final_actions': \"**Constructive Steps for Manufacturing Company:**\\n\\n**1. Investigate Hardware Issue:**\\n\\n* Inspect the SD card slot for any physical damage or obstructions.\\n* Test the slot with a known-working SD card to confirm functionality.\\n* Check the device's firmware and update if necessary.\\n\\n**2. Troubleshoot Software Issue:**\\n\\n* Ensure that the file management application is up-to-date.\\n* Check for any corrupted files or software conflicts that may be interfering with SD card access.\\n* Reset the device to factory settings to eliminate any software glitches.\\n\\n**3. Test with Different SD Cards:**\\n\\n* Use multiple SD cards of different capacities and brands to rule out any compatibility issues.\\n* Format the SD cards using the device's recommended file system.\\n\\n**4. Check Computer Compatibility:**\\n\\n* Verify that the computer's operating system and hardware are compatible with the SD card.\\n* Try using different USB ports or card readers to eliminate any connection issues.\\n\\n**5. Contact Customer Support:**\\n\\n* If the issue persists after following the above steps, contact the manufacturing company's customer support.\\n* Provide detailed information about the problem, including the device model, SD card type, and troubleshooting steps taken.\\n\\n**6. Implement Design Improvements:**\\n\\n* Based on the findings of the investigation, the manufacturing company should consider implementing design improvements to address the issue.\\n* This may include redesigning the SD card slot, improving software compatibility, or providing clearer instructions for SD card usage.\\n\\n**7. Enhance Quality Control:**\\n\\n* Strengthen quality control measures to ensure that devices are thoroughly tested before being shipped to customers.\\n* Implement automated testing procedures to detect and prevent SD card slot issues.\"}\n"
          ]
        }
      ]
    },
    {
      "cell_type": "code",
      "source": [
        "print(output['issues'])\n"
      ],
      "metadata": {
        "colab": {
          "base_uri": "https://localhost:8080/"
        },
        "id": "SnJ-Hw5gCxwO",
        "outputId": "3d6cdf97-5735-49eb-8376-ed87078109f3"
      },
      "execution_count": 35,
      "outputs": [
        {
          "output_type": "stream",
          "name": "stdout",
          "text": [
            "**Key Issues:**\n",
            "\n",
            "* SD card slot not opening when accessed in file management\n",
            "* SD card not recognized by computer\n",
            "* SD card is functional on other devices\n"
          ]
        }
      ]
    },
    {
      "cell_type": "code",
      "source": [
        "print(output['final_actions'])\n"
      ],
      "metadata": {
        "colab": {
          "base_uri": "https://localhost:8080/"
        },
        "id": "29aC8X-2C8Tj",
        "outputId": "cabb9294-571c-4a59-af59-efbe3b2936ed"
      },
      "execution_count": 36,
      "outputs": [
        {
          "output_type": "stream",
          "name": "stdout",
          "text": [
            "**Constructive Steps for Manufacturing Company:**\n",
            "\n",
            "**1. Investigate Hardware Issue:**\n",
            "\n",
            "* Inspect the SD card slot for any physical damage or obstructions.\n",
            "* Test the slot with a known-working SD card to confirm functionality.\n",
            "* Check the device's firmware and update if necessary.\n",
            "\n",
            "**2. Troubleshoot Software Issue:**\n",
            "\n",
            "* Ensure that the file management application is up-to-date.\n",
            "* Check for any corrupted files or software conflicts that may be interfering with SD card access.\n",
            "* Reset the device to factory settings to eliminate any software glitches.\n",
            "\n",
            "**3. Test with Different SD Cards:**\n",
            "\n",
            "* Use multiple SD cards of different capacities and brands to rule out any compatibility issues.\n",
            "* Format the SD cards using the device's recommended file system.\n",
            "\n",
            "**4. Check Computer Compatibility:**\n",
            "\n",
            "* Verify that the computer's operating system and hardware are compatible with the SD card.\n",
            "* Try using different USB ports or card readers to eliminate any connection issues.\n",
            "\n",
            "**5. Contact Customer Support:**\n",
            "\n",
            "* If the issue persists after following the above steps, contact the manufacturing company's customer support.\n",
            "* Provide detailed information about the problem, including the device model, SD card type, and troubleshooting steps taken.\n",
            "\n",
            "**6. Implement Design Improvements:**\n",
            "\n",
            "* Based on the findings of the investigation, the manufacturing company should consider implementing design improvements to address the issue.\n",
            "* This may include redesigning the SD card slot, improving software compatibility, or providing clearer instructions for SD card usage.\n",
            "\n",
            "**7. Enhance Quality Control:**\n",
            "\n",
            "* Strengthen quality control measures to ensure that devices are thoroughly tested before being shipped to customers.\n",
            "* Implement automated testing procedures to detect and prevent SD card slot issues.\n"
          ]
        }
      ]
    },
    {
      "cell_type": "markdown",
      "source": [
        "### **TransformChain**"
      ],
      "metadata": {
        "id": "-V2FyfjvMREG"
      }
    },
    {
      "cell_type": "code",
      "source": [
        "def preprocessing(inputs: dict) -> dict:\n",
        "    lower = inputs['review'].lower()\n",
        "    lower_replace = lower.replace(\"!\",\"\").replace(\"?\",\"\")\n",
        "    return {\"output\":lower_replace}"
      ],
      "metadata": {
        "id": "3-u6_jOUC98x"
      },
      "execution_count": 37,
      "outputs": []
    },
    {
      "cell_type": "code",
      "source": [
        "review"
      ],
      "metadata": {
        "colab": {
          "base_uri": "https://localhost:8080/",
          "height": 52
        },
        "id": "5WCPVCk4Me-d",
        "outputId": "7108d083-071a-4fe6-bba9-758b6af1970c"
      },
      "execution_count": 38,
      "outputs": [
        {
          "output_type": "execute_result",
          "data": {
            "text/plain": [
              "'Had this phone before and loved it but was not working so I got this phone. One thing is the SD card slot does not open up when I try to access it in file managment, even does not show up on the computer. The card is fine was able to open on another phone. Trying to trouble shoot it for now.'"
            ],
            "application/vnd.google.colaboratory.intrinsic+json": {
              "type": "string"
            }
          },
          "metadata": {},
          "execution_count": 38
        }
      ]
    },
    {
      "cell_type": "code",
      "source": [
        "review_processed = preprocessing({'review': review})\n",
        "print(review_processed)"
      ],
      "metadata": {
        "colab": {
          "base_uri": "https://localhost:8080/"
        },
        "id": "86HTOFSjMUHG",
        "outputId": "c180f454-424b-4d0b-d171-e267fe6e385e"
      },
      "execution_count": 39,
      "outputs": [
        {
          "output_type": "stream",
          "name": "stdout",
          "text": [
            "{'output': 'had this phone before and loved it but was not working so i got this phone. one thing is the sd card slot does not open up when i try to access it in file managment, even does not show up on the computer. the card is fine was able to open on another phone. trying to trouble shoot it for now.'}\n"
          ]
        }
      ]
    },
    {
      "cell_type": "code",
      "source": [
        "from langchain.chains import TransformChain\n",
        "\n",
        "tf_chain = TransformChain(input_variables = ['review'],\n",
        "                                   output_variables = ['output'],\n",
        "                                   transform = preprocessing)"
      ],
      "metadata": {
        "id": "-pqc3DH7Mh4Q"
      },
      "execution_count": 40,
      "outputs": []
    },
    {
      "cell_type": "code",
      "source": [
        "tf_chain.run({'review': review})\n"
      ],
      "metadata": {
        "colab": {
          "base_uri": "https://localhost:8080/",
          "height": 52
        },
        "id": "PBJtATjVMr0g",
        "outputId": "51dec5b9-e370-4788-dbe4-6602512a6318"
      },
      "execution_count": 42,
      "outputs": [
        {
          "output_type": "execute_result",
          "data": {
            "text/plain": [
              "'had this phone before and loved it but was not working so i got this phone. one thing is the sd card slot does not open up when i try to access it in file managment, even does not show up on the computer. the card is fine was able to open on another phone. trying to trouble shoot it for now.'"
            ],
            "application/vnd.google.colaboratory.intrinsic+json": {
              "type": "string"
            }
          },
          "metadata": {},
          "execution_count": 42
        }
      ]
    },
    {
      "cell_type": "code",
      "source": [
        "template_tf = \"\"\"Please write a one liner summary of the given mobile review:\n",
        "\\n{output}\"\"\""
      ],
      "metadata": {
        "id": "tmMmRq34MstY"
      },
      "execution_count": 43,
      "outputs": []
    },
    {
      "cell_type": "code",
      "source": [
        "prompt_tf = PromptTemplate(input_variables=['output'],\n",
        "                           template=template_tf)\n",
        "summary_chain = LLMChain(llm=llm,\n",
        "                         prompt=prompt_tf)"
      ],
      "metadata": {
        "id": "UWODorxhMy0y"
      },
      "execution_count": 45,
      "outputs": []
    },
    {
      "cell_type": "code",
      "source": [
        "seq_chain = SimpleSequentialChain(chains=[tf_chain,summary_chain],\n",
        "                                  verbose=True)"
      ],
      "metadata": {
        "id": "JIx6OG0_MzTv"
      },
      "execution_count": 46,
      "outputs": []
    },
    {
      "cell_type": "code",
      "source": [
        "result = seq_chain.run(review)\n"
      ],
      "metadata": {
        "colab": {
          "base_uri": "https://localhost:8080/"
        },
        "id": "Y1PxbkntM4-H",
        "outputId": "366b1d8a-aecc-4250-c42d-a76495e293f0"
      },
      "execution_count": 47,
      "outputs": [
        {
          "output_type": "stream",
          "name": "stdout",
          "text": [
            "\n",
            "\n",
            "\u001b[1m> Entering new SimpleSequentialChain chain...\u001b[0m\n",
            "\u001b[36;1m\u001b[1;3mhad this phone before and loved it but was not working so i got this phone. one thing is the sd card slot does not open up when i try to access it in file managment, even does not show up on the computer. the card is fine was able to open on another phone. trying to trouble shoot it for now.\u001b[0m\n",
            "\u001b[33;1m\u001b[1;3mUser experienced a malfunctioning SD card slot on their previously loved phone, which is now inaccessible on their new device.\u001b[0m\n",
            "\n",
            "\u001b[1m> Finished chain.\u001b[0m\n"
          ]
        }
      ]
    },
    {
      "cell_type": "code",
      "source": [
        "result\n"
      ],
      "metadata": {
        "colab": {
          "base_uri": "https://localhost:8080/",
          "height": 35
        },
        "id": "AP8oc-NeM6P9",
        "outputId": "218fd668-eca8-4f05-92ec-e6bb6768e5e4"
      },
      "execution_count": 48,
      "outputs": [
        {
          "output_type": "execute_result",
          "data": {
            "text/plain": [
              "'User experienced a malfunctioning SD card slot on their previously loved phone, which is now inaccessible on their new device.'"
            ],
            "application/vnd.google.colaboratory.intrinsic+json": {
              "type": "string"
            }
          },
          "metadata": {},
          "execution_count": 48
        }
      ]
    },
    {
      "cell_type": "code",
      "source": [],
      "metadata": {
        "id": "iIbeyf0wNJqo"
      },
      "execution_count": null,
      "outputs": []
    }
  ]
}